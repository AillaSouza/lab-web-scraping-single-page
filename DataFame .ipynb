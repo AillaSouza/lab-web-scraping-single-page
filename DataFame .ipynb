{
 "cells": [
  {
   "cell_type": "code",
   "execution_count": 1,
   "id": "1d17763f",
   "metadata": {},
   "outputs": [],
   "source": [
    "#libraries\n",
    "import pandas as pd\n",
    "from bs4 import BeautifulSoup\n",
    "import requests\n",
    "import os\n",
    "from IPython.display import Image\n",
    "# settings\n",
    "pd.set_option('display.max_columns', None) \n",
    "import warnings\n",
    "warnings.filterwarnings('ignore')"
   ]
  },
  {
   "cell_type": "code",
   "execution_count": null,
   "id": "4b22fad6",
   "metadata": {},
   "outputs": [],
   "source": [
    "#getting the link "
   ]
  },
  {
   "cell_type": "code",
   "execution_count": 2,
   "id": "a7112f9d",
   "metadata": {},
   "outputs": [],
   "source": [
    "link = \"https://www.billboard.com/charts/hot-100/\""
   ]
  },
  {
   "cell_type": "code",
   "execution_count": 3,
   "id": "daafcdd1",
   "metadata": {},
   "outputs": [
    {
     "data": {
      "text/plain": [
       "200"
      ]
     },
     "execution_count": 3,
     "metadata": {},
     "output_type": "execute_result"
    }
   ],
   "source": [
    "# checking the response - 200 is ok \n",
    "response = requests.get(link)\n",
    "response.status_code"
   ]
  },
  {
   "cell_type": "code",
   "execution_count": 4,
   "id": "40e1e9d8",
   "metadata": {},
   "outputs": [],
   "source": [
    "soup = BeautifulSoup(response.text, 'html.parser')\n",
    "#print(soup.prettify())"
   ]
  },
  {
   "cell_type": "code",
   "execution_count": 5,
   "id": "0aa28ee3",
   "metadata": {},
   "outputs": [],
   "source": [
    "songs = []\n",
    "for element in soup.find_all(attrs={'class':'o-chart-results-list-row-container'}):\n",
    "    songs.append(element.h3.get_text(strip=True))"
   ]
  },
  {
   "cell_type": "code",
   "execution_count": 6,
   "id": "34ce2927",
   "metadata": {},
   "outputs": [],
   "source": [
    "bands = []\n",
    "for element in soup.find_all(attrs={'class':'o-chart-results-list-row-container'}):\n",
    "    bands.append(element.h3.find_next('span').get_text(strip=True))"
   ]
  },
  {
   "cell_type": "code",
   "execution_count": 56,
   "id": "16e52e92",
   "metadata": {},
   "outputs": [],
   "source": [
    "rank =[]\n",
    "for element in soup.find_all(attrs={'class':'o-chart-results-list-row-container'}):\n",
    "    rank.append(element.li.find_next('span').get_text(strip=True))"
   ]
  },
  {
   "cell_type": "code",
   "execution_count": 11,
   "id": "07df3f82",
   "metadata": {},
   "outputs": [],
   "source": [
    "dict_data = {\"rank\": rank,\n",
    "             \"music\": songs,\n",
    "             \"band\": bands}"
   ]
  },
  {
   "cell_type": "code",
   "execution_count": 76,
   "id": "5e60b507",
   "metadata": {},
   "outputs": [
    {
     "data": {
      "text/html": [
       "<div>\n",
       "<style scoped>\n",
       "    .dataframe tbody tr th:only-of-type {\n",
       "        vertical-align: middle;\n",
       "    }\n",
       "\n",
       "    .dataframe tbody tr th {\n",
       "        vertical-align: top;\n",
       "    }\n",
       "\n",
       "    .dataframe thead th {\n",
       "        text-align: right;\n",
       "    }\n",
       "</style>\n",
       "<table border=\"1\" class=\"dataframe\">\n",
       "  <thead>\n",
       "    <tr style=\"text-align: right;\">\n",
       "      <th></th>\n",
       "      <th>rank</th>\n",
       "      <th>music</th>\n",
       "      <th>band</th>\n",
       "    </tr>\n",
       "  </thead>\n",
       "  <tbody>\n",
       "    <tr>\n",
       "      <th>0</th>\n",
       "      <td>1</td>\n",
       "      <td>A Bar Song (Tipsy)</td>\n",
       "      <td>Shaboozey</td>\n",
       "    </tr>\n",
       "    <tr>\n",
       "      <th>1</th>\n",
       "      <td>2</td>\n",
       "      <td>I Had Some Help</td>\n",
       "      <td>Post Malone Featuring Morgan Wallen</td>\n",
       "    </tr>\n",
       "    <tr>\n",
       "      <th>2</th>\n",
       "      <td>3</td>\n",
       "      <td>Espresso</td>\n",
       "      <td>Sabrina Carpenter</td>\n",
       "    </tr>\n",
       "    <tr>\n",
       "      <th>3</th>\n",
       "      <td>4</td>\n",
       "      <td>Die With A Smile</td>\n",
       "      <td>Lady Gaga &amp; Bruno Mars</td>\n",
       "    </tr>\n",
       "    <tr>\n",
       "      <th>4</th>\n",
       "      <td>5</td>\n",
       "      <td>Birds Of A Feather</td>\n",
       "      <td>Billie Eilish</td>\n",
       "    </tr>\n",
       "    <tr>\n",
       "      <th>...</th>\n",
       "      <td>...</td>\n",
       "      <td>...</td>\n",
       "      <td>...</td>\n",
       "    </tr>\n",
       "    <tr>\n",
       "      <th>95</th>\n",
       "      <td>96</td>\n",
       "      <td>Close To You</td>\n",
       "      <td>Gracie Abrams</td>\n",
       "    </tr>\n",
       "    <tr>\n",
       "      <th>96</th>\n",
       "      <td>97</td>\n",
       "      <td>Residuals</td>\n",
       "      <td>Chris Brown</td>\n",
       "    </tr>\n",
       "    <tr>\n",
       "      <th>97</th>\n",
       "      <td>98</td>\n",
       "      <td>Devil Is A Lie</td>\n",
       "      <td>Tommy Richman</td>\n",
       "    </tr>\n",
       "    <tr>\n",
       "      <th>98</th>\n",
       "      <td>99</td>\n",
       "      <td>Parking Lot</td>\n",
       "      <td>Mustard &amp; Travis Scott</td>\n",
       "    </tr>\n",
       "    <tr>\n",
       "      <th>99</th>\n",
       "      <td>100</td>\n",
       "      <td>American Nights</td>\n",
       "      <td>Zach Bryan</td>\n",
       "    </tr>\n",
       "  </tbody>\n",
       "</table>\n",
       "<p>100 rows × 3 columns</p>\n",
       "</div>"
      ],
      "text/plain": [
       "   rank               music                                 band\n",
       "0     1  A Bar Song (Tipsy)                            Shaboozey\n",
       "1     2     I Had Some Help  Post Malone Featuring Morgan Wallen\n",
       "2     3            Espresso                    Sabrina Carpenter\n",
       "3     4    Die With A Smile               Lady Gaga & Bruno Mars\n",
       "4     5  Birds Of A Feather                        Billie Eilish\n",
       "..  ...                 ...                                  ...\n",
       "95   96        Close To You                        Gracie Abrams\n",
       "96   97           Residuals                          Chris Brown\n",
       "97   98      Devil Is A Lie                        Tommy Richman\n",
       "98   99         Parking Lot               Mustard & Travis Scott\n",
       "99  100     American Nights                           Zach Bryan\n",
       "\n",
       "[100 rows x 3 columns]"
      ]
     },
     "execution_count": 76,
     "metadata": {},
     "output_type": "execute_result"
    }
   ],
   "source": [
    "df = pd.DataFrame(dict_data)\n",
    "df\n"
   ]
  },
  {
   "cell_type": "code",
   "execution_count": null,
   "id": "d0300188",
   "metadata": {},
   "outputs": [],
   "source": [
    ".find_all(h3, class: c/label a/font/primary)"
   ]
  }
 ],
 "metadata": {
  "kernelspec": {
   "display_name": "Python 3 (ipykernel)",
   "language": "python",
   "name": "python3"
  },
  "language_info": {
   "codemirror_mode": {
    "name": "ipython",
    "version": 3
   },
   "file_extension": ".py",
   "mimetype": "text/x-python",
   "name": "python",
   "nbconvert_exporter": "python",
   "pygments_lexer": "ipython3",
   "version": "3.9.7"
  }
 },
 "nbformat": 4,
 "nbformat_minor": 5
}
